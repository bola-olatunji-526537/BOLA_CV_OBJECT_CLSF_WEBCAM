{
 "cells": [
  {
   "cell_type": "code",
   "execution_count": 3,
   "metadata": {},
   "outputs": [
    {
     "name": "stdout",
     "output_type": "stream",
     "text": [
      "Press 'q' to quit.\n",
      "Saved: C:/Users/BOLA OLATUNJI/Documents/ACADEMIC/SCHOOL/Canada/ACADEMIC SASK/FALL SEMESTER 2024/FRI PROJ 613 CAPSTONE/MODELS/YOLO/New folder/WEBCAM NEW\\authorized_0.jpg\n",
      "Saved: C:/Users/BOLA OLATUNJI/Documents/ACADEMIC/SCHOOL/Canada/ACADEMIC SASK/FALL SEMESTER 2024/FRI PROJ 613 CAPSTONE/MODELS/YOLO/New folder/WEBCAM NEW\\authorized_1.jpg\n",
      "Saved: C:/Users/BOLA OLATUNJI/Documents/ACADEMIC/SCHOOL/Canada/ACADEMIC SASK/FALL SEMESTER 2024/FRI PROJ 613 CAPSTONE/MODELS/YOLO/New folder/WEBCAM NEW\\authorized_2.jpg\n",
      "Saved: C:/Users/BOLA OLATUNJI/Documents/ACADEMIC/SCHOOL/Canada/ACADEMIC SASK/FALL SEMESTER 2024/FRI PROJ 613 CAPSTONE/MODELS/YOLO/New folder/WEBCAM NEW\\authorized_3.jpg\n",
      "Saved: C:/Users/BOLA OLATUNJI/Documents/ACADEMIC/SCHOOL/Canada/ACADEMIC SASK/FALL SEMESTER 2024/FRI PROJ 613 CAPSTONE/MODELS/YOLO/New folder/WEBCAM NEW\\authorized_4.jpg\n",
      "Saved: C:/Users/BOLA OLATUNJI/Documents/ACADEMIC/SCHOOL/Canada/ACADEMIC SASK/FALL SEMESTER 2024/FRI PROJ 613 CAPSTONE/MODELS/YOLO/New folder/WEBCAM NEW\\authorized_5.jpg\n",
      "Saved: C:/Users/BOLA OLATUNJI/Documents/ACADEMIC/SCHOOL/Canada/ACADEMIC SASK/FALL SEMESTER 2024/FRI PROJ 613 CAPSTONE/MODELS/YOLO/New folder/WEBCAM NEW\\authorized_6.jpg\n",
      "Saved: C:/Users/BOLA OLATUNJI/Documents/ACADEMIC/SCHOOL/Canada/ACADEMIC SASK/FALL SEMESTER 2024/FRI PROJ 613 CAPSTONE/MODELS/YOLO/New folder/WEBCAM NEW\\authorized_7.jpg\n",
      "Saved: C:/Users/BOLA OLATUNJI/Documents/ACADEMIC/SCHOOL/Canada/ACADEMIC SASK/FALL SEMESTER 2024/FRI PROJ 613 CAPSTONE/MODELS/YOLO/New folder/WEBCAM NEW\\authorized_8.jpg\n",
      "Saved: C:/Users/BOLA OLATUNJI/Documents/ACADEMIC/SCHOOL/Canada/ACADEMIC SASK/FALL SEMESTER 2024/FRI PROJ 613 CAPSTONE/MODELS/YOLO/New folder/WEBCAM NEW\\authorized_9.jpg\n",
      "Saved: C:/Users/BOLA OLATUNJI/Documents/ACADEMIC/SCHOOL/Canada/ACADEMIC SASK/FALL SEMESTER 2024/FRI PROJ 613 CAPSTONE/MODELS/YOLO/New folder/WEBCAM NEW\\authorized_10.jpg\n",
      "Saved: C:/Users/BOLA OLATUNJI/Documents/ACADEMIC/SCHOOL/Canada/ACADEMIC SASK/FALL SEMESTER 2024/FRI PROJ 613 CAPSTONE/MODELS/YOLO/New folder/WEBCAM NEW\\authorized_11.jpg\n",
      "Saved: C:/Users/BOLA OLATUNJI/Documents/ACADEMIC/SCHOOL/Canada/ACADEMIC SASK/FALL SEMESTER 2024/FRI PROJ 613 CAPSTONE/MODELS/YOLO/New folder/WEBCAM NEW\\authorized_12.jpg\n",
      "Saved: C:/Users/BOLA OLATUNJI/Documents/ACADEMIC/SCHOOL/Canada/ACADEMIC SASK/FALL SEMESTER 2024/FRI PROJ 613 CAPSTONE/MODELS/YOLO/New folder/WEBCAM NEW\\authorized_13.jpg\n",
      "Saved: C:/Users/BOLA OLATUNJI/Documents/ACADEMIC/SCHOOL/Canada/ACADEMIC SASK/FALL SEMESTER 2024/FRI PROJ 613 CAPSTONE/MODELS/YOLO/New folder/WEBCAM NEW\\authorized_14.jpg\n",
      "Saved: C:/Users/BOLA OLATUNJI/Documents/ACADEMIC/SCHOOL/Canada/ACADEMIC SASK/FALL SEMESTER 2024/FRI PROJ 613 CAPSTONE/MODELS/YOLO/New folder/WEBCAM NEW\\authorized_15.jpg\n",
      "Saved: C:/Users/BOLA OLATUNJI/Documents/ACADEMIC/SCHOOL/Canada/ACADEMIC SASK/FALL SEMESTER 2024/FRI PROJ 613 CAPSTONE/MODELS/YOLO/New folder/WEBCAM NEW\\authorized_16.jpg\n",
      "Saved: C:/Users/BOLA OLATUNJI/Documents/ACADEMIC/SCHOOL/Canada/ACADEMIC SASK/FALL SEMESTER 2024/FRI PROJ 613 CAPSTONE/MODELS/YOLO/New folder/WEBCAM NEW\\authorized_17.jpg\n",
      "Saved: C:/Users/BOLA OLATUNJI/Documents/ACADEMIC/SCHOOL/Canada/ACADEMIC SASK/FALL SEMESTER 2024/FRI PROJ 613 CAPSTONE/MODELS/YOLO/New folder/WEBCAM NEW\\authorized_18.jpg\n",
      "Saved: C:/Users/BOLA OLATUNJI/Documents/ACADEMIC/SCHOOL/Canada/ACADEMIC SASK/FALL SEMESTER 2024/FRI PROJ 613 CAPSTONE/MODELS/YOLO/New folder/WEBCAM NEW\\authorized_19.jpg\n",
      "Saved: C:/Users/BOLA OLATUNJI/Documents/ACADEMIC/SCHOOL/Canada/ACADEMIC SASK/FALL SEMESTER 2024/FRI PROJ 613 CAPSTONE/MODELS/YOLO/New folder/WEBCAM NEW\\authorized_20.jpg\n",
      "Saved: C:/Users/BOLA OLATUNJI/Documents/ACADEMIC/SCHOOL/Canada/ACADEMIC SASK/FALL SEMESTER 2024/FRI PROJ 613 CAPSTONE/MODELS/YOLO/New folder/WEBCAM NEW\\authorized_21.jpg\n",
      "Saved: C:/Users/BOLA OLATUNJI/Documents/ACADEMIC/SCHOOL/Canada/ACADEMIC SASK/FALL SEMESTER 2024/FRI PROJ 613 CAPSTONE/MODELS/YOLO/New folder/WEBCAM NEW\\authorized_22.jpg\n",
      "Saved: C:/Users/BOLA OLATUNJI/Documents/ACADEMIC/SCHOOL/Canada/ACADEMIC SASK/FALL SEMESTER 2024/FRI PROJ 613 CAPSTONE/MODELS/YOLO/New folder/WEBCAM NEW\\authorized_23.jpg\n",
      "Saved: C:/Users/BOLA OLATUNJI/Documents/ACADEMIC/SCHOOL/Canada/ACADEMIC SASK/FALL SEMESTER 2024/FRI PROJ 613 CAPSTONE/MODELS/YOLO/New folder/WEBCAM NEW\\authorized_24.jpg\n",
      "Saved: C:/Users/BOLA OLATUNJI/Documents/ACADEMIC/SCHOOL/Canada/ACADEMIC SASK/FALL SEMESTER 2024/FRI PROJ 613 CAPSTONE/MODELS/YOLO/New folder/WEBCAM NEW\\authorized_25.jpg\n",
      "Saved: C:/Users/BOLA OLATUNJI/Documents/ACADEMIC/SCHOOL/Canada/ACADEMIC SASK/FALL SEMESTER 2024/FRI PROJ 613 CAPSTONE/MODELS/YOLO/New folder/WEBCAM NEW\\authorized_26.jpg\n"
     ]
    }
   ],
   "source": [
    "import cv2\n",
    "import os\n",
    "\n",
    "# Directory to save the images\n",
    "save_dir = \"C:/Users/BOLA OLATUNJI/Documents/ACADEMIC/SCHOOL/Canada/ACADEMIC SASK/FALL SEMESTER 2024/FRI PROJ 613 CAPSTONE/MODELS/YOLO/New folder/WEBCAM NEW\"\n",
    "os.makedirs(save_dir, exist_ok=True)\n",
    "\n",
    "cap = cv2.VideoCapture(0)\n",
    "count = 0\n",
    "\n",
    "print(\"Press 'q' to quit.\")\n",
    "\n",
    "while True:\n",
    "    ret, frame = cap.read()\n",
    "    if not ret:\n",
    "        break\n",
    "\n",
    "    cv2.imshow(\"Capture\", frame)\n",
    "\n",
    "    # Save frame as image every few seconds\n",
    "    key = cv2.waitKey(1) & 0xFF\n",
    "    if key == ord('s'):  # Press 's' to save image\n",
    "        img_path = os.path.join(save_dir, f\"authorized_{count}.jpg\")\n",
    "        cv2.imwrite(img_path, frame)\n",
    "        print(f\"Saved: {img_path}\")\n",
    "        count += 1\n",
    "\n",
    "    if key == ord('q'):  # Press 'q' to quit\n",
    "        break\n",
    "\n",
    "cap.release()\n",
    "cv2.destroyAllWindows()\n"
   ]
  }
 ],
 "metadata": {
  "kernelspec": {
   "display_name": "base",
   "language": "python",
   "name": "python3"
  },
  "language_info": {
   "codemirror_mode": {
    "name": "ipython",
    "version": 3
   },
   "file_extension": ".py",
   "mimetype": "text/x-python",
   "name": "python",
   "nbconvert_exporter": "python",
   "pygments_lexer": "ipython3",
   "version": "3.11.5"
  }
 },
 "nbformat": 4,
 "nbformat_minor": 2
}
